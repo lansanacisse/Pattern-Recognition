{
 "cells": [
  {
   "cell_type": "markdown",
   "id": "34f3180c",
   "metadata": {},
   "source": [
    "# Programme de détection d'annimaux pour les éléleveurs  "
   ]
  },
  {
   "cell_type": "markdown",
   "id": "245bce9c",
   "metadata": {},
   "source": [
    "## Importations des modules nécessaire pour le fonctionnement du programme"
   ]
  },
  {
   "cell_type": "markdown",
   "id": "f43ddd27",
   "metadata": {},
   "source": [
    "## Travail réalisé par:\n",
    "    LAOKPEZI Solim  N° 5222353 \n",
    "    LANANA Cissé    N° 5221295"
   ]
  },
  {
   "cell_type": "code",
   "execution_count": 2,
   "id": "3a1c4cff",
   "metadata": {},
   "outputs": [
    {
     "ename": "ModuleNotFoundError",
     "evalue": "No module named 'cv2'",
     "output_type": "error",
     "traceback": [
      "\u001b[1;31m---------------------------------------------------------------------------\u001b[0m",
      "\u001b[1;31mModuleNotFoundError\u001b[0m                       Traceback (most recent call last)",
      "Cell \u001b[1;32mIn[2], line 3\u001b[0m\n\u001b[0;32m      1\u001b[0m \u001b[38;5;28;01mimport\u001b[39;00m \u001b[38;5;21;01mtkinter\u001b[39;00m \u001b[38;5;28;01mas\u001b[39;00m \u001b[38;5;21;01mtk\u001b[39;00m \u001b[38;5;66;03m# Permet de créer des interfaces graphiques \u001b[39;00m\n\u001b[0;32m      2\u001b[0m \u001b[38;5;28;01mfrom\u001b[39;00m \u001b[38;5;21;01mtkinter\u001b[39;00m \u001b[38;5;28;01mimport\u001b[39;00m filedialog\n\u001b[1;32m----> 3\u001b[0m \u001b[38;5;28;01mimport\u001b[39;00m \u001b[38;5;21;01mcv2\u001b[39;00m\n\u001b[0;32m      4\u001b[0m \u001b[38;5;28;01mimport\u001b[39;00m \u001b[38;5;21;01mcustomtkinter\u001b[39;00m \u001b[38;5;66;03m# Verstion personnalisée de Tkinter\u001b[39;00m\n\u001b[0;32m      5\u001b[0m \u001b[38;5;28;01mimport\u001b[39;00m \u001b[38;5;21;01mnumpy\u001b[39;00m \u001b[38;5;28;01mas\u001b[39;00m \u001b[38;5;21;01mnp\u001b[39;00m\n",
      "\u001b[1;31mModuleNotFoundError\u001b[0m: No module named 'cv2'"
     ]
    }
   ],
   "source": [
    "import tkinter as tk # Permet de créer des interfaces graphiques \n",
    "from tkinter import filedialog\n",
    "import cv2\n",
    "import customtkinter # Verstion personnalisée de Tkinter\n",
    "import numpy as np\n",
    "from matplotlib import pyplot as plt\n",
    "from PIL import Image, ImageTk"
   ]
  },
  {
   "cell_type": "markdown",
   "id": "601d4e4e",
   "metadata": {},
   "source": [
    " ## Ouvrir une boîte de dialogue pour sélectionner l'image de l'annimale recherché"
   ]
  },
  {
   "cell_type": "code",
   "execution_count": 4,
   "id": "eb54fd2d",
   "metadata": {},
   "outputs": [],
   "source": [
    "def select_image1(image1_label=None):\n",
    "    # Ouvrir une boîte de dialogue pour sélectionner l'image 1\n",
    "    filename = filedialog.askopenfilename(title=\" annimale Rechercher \")\n",
    "    # Charger l'image sélectionnée\n",
    "    global img1\n",
    "    img1 = Image.open(filename)\n",
    "    # Mettre à jour l'image 1 dans le champ d'affichage\n",
    "    global img1_display\n",
    "    img1_display = ImageTk.PhotoImage(img1)"
   ]
  },
  {
   "cell_type": "markdown",
   "id": "fa59798f",
   "metadata": {},
   "source": [
    "## Ouvrir une boîte de dialogue pour sélectionner l'image de  contenant plusieur annimaux"
   ]
  },
  {
   "cell_type": "code",
   "execution_count": 5,
   "id": "415039a9",
   "metadata": {},
   "outputs": [],
   "source": [
    "def select_image2():\n",
    "    # Ouvrir une boîte de dialogue pour sélectionner l'image 2\n",
    "    filename = filedialog.askopenfilename(title=\"l'image source\")\n",
    "    # Charger l'image sélectionnée\n",
    "    global img2\n",
    "    img2 = Image.open(filename)\n",
    "    # Mettre à jour l'image 2 dans le champ d'affichage\n",
    "    global img2_display\n",
    "    img2_display = ImageTk.PhotoImage(img2)"
   ]
  },
  {
   "cell_type": "code",
   "execution_count": 6,
   "id": "4a92c1f7",
   "metadata": {},
   "outputs": [],
   "source": [
    "def show_images():\n",
    "    # Créer une nouvelle fenêtre pour afficher les images\n",
    "    window = customtkinter.CTkToplevel(root)\n",
    "    window.title(\"Images sélectionnées\")\n",
    "    # Ajouter les images au champ d'affichage\n",
    "    image1_label =tk.Label(window, image=img1_display)\n",
    "    image1_label.grid(row=0, column=0)\n",
    "    image2_label = tk.Label(window, image=img2_display)\n",
    "    image2_label.grid(row=0, column=1)"
   ]
  },
  {
   "cell_type": "markdown",
   "id": "186358d0",
   "metadata": {},
   "source": [
    "## Fonction de détection utilisant SIFT ET FLANN"
   ]
  },
  {
   "cell_type": "code",
   "execution_count": 7,
   "id": "af33c5e8",
   "metadata": {},
   "outputs": [],
   "source": [
    "def detecter():\n",
    "    im1 = np.array(img1)\n",
    "    im2 = np.array(img2)\n",
    "\n",
    "    # Initialisation de l'algorithme de détection d'objets SIFT\n",
    "    sift = cv2.xfeatures2d.SIFT_create()\n",
    "    # Calcule des points clés et des descripteurs pour les deux images\n",
    "    kp1, des1 = sift.detectAndCompute(im1, None)\n",
    "    kp2, des2 = sift.detectAndCompute(im2, None)\n",
    "    # Initialisation de l'algorithme de matching FLANN\n",
    "    FLANN_INDEX_KDTREE = 0\n",
    "    index_params = dict(algorithm = FLANN_INDEX_KDTREE, trees = 5)\n",
    "    search_params = dict(checks=50)\n",
    "    flann = cv2.FlannBasedMatcher(index_params,search_params)\n",
    "    # Recherche des correspondances entre les descripteurs des images\n",
    "    matches = flann.knnMatch(des1, des2, k=2)\n",
    "    # Filtrage des correspondances pour éliminer les fausses correspondances\n",
    "    good_matches = []\n",
    "    for m, n in matches:\n",
    "        if m.distance < 0.7 * n.distance:\n",
    "            good_matches.append(m)\n",
    "    # Si il y a suffisamment de correspondances, on peut considérer que l'objet est présent dans la seconde image\n",
    "    MIN_MATCH_COUNT = 10\n",
    "    if len(good_matches) > MIN_MATCH_COUNT:\n",
    "        # Calcule des coordonnées des points correspondants pour les deux images\n",
    "        src_pts = np.float32([ kp1[m.queryIdx].pt for m in good_matches ]).reshape(-1,1,2)\n",
    "        dst_pts = np.float32([ kp2[m.trainIdx].pt for m in good_matches ]).reshape(-1,1,2)\n",
    "        # Calcule de la transformation entre les deux images\n",
    "        M, mask = cv2.findHomography(src_pts, dst_pts, cv2.RANSAC,5.0)\n",
    "        matchesMask = mask.ravel().tolist()\n",
    "        # Application de la transformation pour obtenir les coordonnées de l'objet dans la seconde image\n",
    "        h, w, _ = im1.shape\n",
    "        pts = np.float32([ [0,0],[0,h-1],[w-1,h-1],[w-1,0] ]).reshape(-1,1,2)\n",
    "        dst = cv2.perspectiveTransform(pts,M)\n",
    "        # Encadrement de l'objet dans la seconde image\n",
    "        im2 = cv2.polylines(im2,[np.int32(dst)],True,255,3, cv2.LINE_AA)\n",
    "        cv2.imshow('test', im2)\n",
    "        cv2.waitKey(0)\n",
    "    else:\n",
    "        print(\"Not enough matches\")\n"
   ]
  },
  {
   "cell_type": "markdown",
   "id": "33c1269f",
   "metadata": {},
   "source": [
    "## Création de la fenêtre principale"
   ]
  },
  {
   "cell_type": "code",
   "execution_count": 8,
   "id": "33ab33d5",
   "metadata": {},
   "outputs": [
    {
     "ename": "NameError",
     "evalue": "name 'customtkinter' is not defined",
     "output_type": "error",
     "traceback": [
      "\u001b[1;31m---------------------------------------------------------------------------\u001b[0m",
      "\u001b[1;31mNameError\u001b[0m                                 Traceback (most recent call last)",
      "Cell \u001b[1;32mIn[8], line 1\u001b[0m\n\u001b[1;32m----> 1\u001b[0m \u001b[43mcustomtkinter\u001b[49m\u001b[38;5;241m.\u001b[39mset_appearance_mode(\u001b[38;5;124m\"\u001b[39m\u001b[38;5;124mdark\u001b[39m\u001b[38;5;124m\"\u001b[39m)  \u001b[38;5;66;03m# Modes: system (default), light, dark\u001b[39;00m\n\u001b[0;32m      2\u001b[0m customtkinter\u001b[38;5;241m.\u001b[39mset_default_color_theme(\u001b[38;5;124m\"\u001b[39m\u001b[38;5;124mdark-blue\u001b[39m\u001b[38;5;124m\"\u001b[39m)  \u001b[38;5;66;03m# Themes: blue (default), dark-blue, green\u001b[39;00m\n",
      "\u001b[1;31mNameError\u001b[0m: name 'customtkinter' is not defined"
     ]
    }
   ],
   "source": [
    "customtkinter.set_appearance_mode(\"dark\")  # Modes: system (default), light, dark\n",
    "customtkinter.set_default_color_theme(\"dark-blue\")  # Themes: blue (default), dark-blue, green"
   ]
  },
  {
   "cell_type": "code",
   "execution_count": 9,
   "id": "438bc2ee",
   "metadata": {},
   "outputs": [
    {
     "ename": "NameError",
     "evalue": "name 'customtkinter' is not defined",
     "output_type": "error",
     "traceback": [
      "\u001b[1;31m---------------------------------------------------------------------------\u001b[0m",
      "\u001b[1;31mNameError\u001b[0m                                 Traceback (most recent call last)",
      "Cell \u001b[1;32mIn[9], line 2\u001b[0m\n\u001b[0;32m      1\u001b[0m \u001b[38;5;66;03m# créer une fenêtre CTk comme vous le faites avec la fenêtre Tk\u001b[39;00m\n\u001b[1;32m----> 2\u001b[0m root \u001b[38;5;241m=\u001b[39m \u001b[43mcustomtkinter\u001b[49m\u001b[38;5;241m.\u001b[39mCTk()  \n\u001b[0;32m      3\u001b[0m root\u001b[38;5;241m.\u001b[39mgrid_rowconfigure(\u001b[38;5;241m0\u001b[39m, weight\u001b[38;5;241m=\u001b[39m\u001b[38;5;241m1\u001b[39m)\n\u001b[0;32m      4\u001b[0m root\u001b[38;5;241m.\u001b[39mgrid_columnconfigure(\u001b[38;5;241m1\u001b[39m, weight\u001b[38;5;241m=\u001b[39m\u001b[38;5;241m1\u001b[39m)\n",
      "\u001b[1;31mNameError\u001b[0m: name 'customtkinter' is not defined"
     ]
    }
   ],
   "source": [
    "# créer une fenêtre CTk comme vous le faites avec la fenêtre Tk\n",
    "root = customtkinter.CTk()  \n",
    "root.grid_rowconfigure(0, weight=1)\n",
    "root.grid_columnconfigure(1, weight=1)"
   ]
  },
  {
   "cell_type": "markdown",
   "id": "36368b1b",
   "metadata": {},
   "source": [
    "## Créer des   Frames"
   ]
  },
  {
   "cell_type": "code",
   "execution_count": 10,
   "id": "0f0c659f",
   "metadata": {},
   "outputs": [
    {
     "ename": "NameError",
     "evalue": "name 'customtkinter' is not defined",
     "output_type": "error",
     "traceback": [
      "\u001b[1;31m---------------------------------------------------------------------------\u001b[0m",
      "\u001b[1;31mNameError\u001b[0m                                 Traceback (most recent call last)",
      "Cell \u001b[1;32mIn[10], line 1\u001b[0m\n\u001b[1;32m----> 1\u001b[0m root\u001b[38;5;241m.\u001b[39mnavigation_frame \u001b[38;5;241m=\u001b[39m \u001b[43mcustomtkinter\u001b[49m\u001b[38;5;241m.\u001b[39mCTkFrame(root, corner_radius\u001b[38;5;241m=\u001b[39m\u001b[38;5;241m0\u001b[39m)\n\u001b[0;32m      2\u001b[0m root\u001b[38;5;241m.\u001b[39mnavigation_frame\u001b[38;5;241m.\u001b[39mgrid(row\u001b[38;5;241m=\u001b[39m\u001b[38;5;241m0\u001b[39m, column\u001b[38;5;241m=\u001b[39m\u001b[38;5;241m0\u001b[39m, sticky\u001b[38;5;241m=\u001b[39m\u001b[38;5;124m\"\u001b[39m\u001b[38;5;124mnsew\u001b[39m\u001b[38;5;124m\"\u001b[39m)\n\u001b[0;32m      3\u001b[0m root\u001b[38;5;241m.\u001b[39mnavigation_frame\u001b[38;5;241m.\u001b[39mgrid_rowconfigure(\u001b[38;5;241m4\u001b[39m, weight\u001b[38;5;241m=\u001b[39m\u001b[38;5;241m1\u001b[39m)\n",
      "\u001b[1;31mNameError\u001b[0m: name 'customtkinter' is not defined"
     ]
    }
   ],
   "source": [
    "root.navigation_frame = customtkinter.CTkFrame(root, corner_radius=0)\n",
    "root.navigation_frame.grid(row=0, column=0, sticky=\"nsew\")\n",
    "root.navigation_frame.grid_rowconfigure(4, weight=1)"
   ]
  },
  {
   "cell_type": "code",
   "execution_count": 11,
   "id": "56272258",
   "metadata": {},
   "outputs": [
    {
     "ename": "NameError",
     "evalue": "name 'customtkinter' is not defined",
     "output_type": "error",
     "traceback": [
      "\u001b[1;31m---------------------------------------------------------------------------\u001b[0m",
      "\u001b[1;31mNameError\u001b[0m                                 Traceback (most recent call last)",
      "Cell \u001b[1;32mIn[11], line 1\u001b[0m\n\u001b[1;32m----> 1\u001b[0m root\u001b[38;5;241m.\u001b[39mhome_frame \u001b[38;5;241m=\u001b[39m \u001b[43mcustomtkinter\u001b[49m\u001b[38;5;241m.\u001b[39mCTkFrame(root, corner_radius\u001b[38;5;241m=\u001b[39m\u001b[38;5;241m0\u001b[39m, fg_color\u001b[38;5;241m=\u001b[39m\u001b[38;5;124m\"\u001b[39m\u001b[38;5;124mtransparent\u001b[39m\u001b[38;5;124m\"\u001b[39m)\n\u001b[0;32m      2\u001b[0m root\u001b[38;5;241m.\u001b[39mhome_frame\u001b[38;5;241m.\u001b[39mgrid_columnconfigure(\u001b[38;5;241m0\u001b[39m, weight\u001b[38;5;241m=\u001b[39m\u001b[38;5;241m1\u001b[39m)\n\u001b[0;32m      3\u001b[0m root\u001b[38;5;241m.\u001b[39mhome_frame_large_image_label \u001b[38;5;241m=\u001b[39m customtkinter\u001b[38;5;241m.\u001b[39mCTkLabel(root\u001b[38;5;241m.\u001b[39mhome_frame, text\u001b[38;5;241m=\u001b[39m\u001b[38;5;124m\"\u001b[39m\u001b[38;5;124mtest\u001b[39m\u001b[38;5;124m\"\u001b[39m)\n",
      "\u001b[1;31mNameError\u001b[0m: name 'customtkinter' is not defined"
     ]
    }
   ],
   "source": [
    "root.home_frame = customtkinter.CTkFrame(root, corner_radius=0, fg_color=\"transparent\")\n",
    "root.home_frame.grid_columnconfigure(0, weight=1)\n",
    "root.home_frame_large_image_label = customtkinter.CTkLabel(root.home_frame, text=\"test\")\n",
    "root.home_frame_large_image_label.grid(row=0, column=0, padx=20, pady=10)"
   ]
  },
  {
   "cell_type": "markdown",
   "id": "a47de541",
   "metadata": {},
   "source": [
    "## Créer un  Frame de navigation pour les boutons "
   ]
  },
  {
   "cell_type": "code",
   "execution_count": 12,
   "id": "d5c1a7f1",
   "metadata": {},
   "outputs": [
    {
     "ename": "NameError",
     "evalue": "name 'customtkinter' is not defined",
     "output_type": "error",
     "traceback": [
      "\u001b[1;31m---------------------------------------------------------------------------\u001b[0m",
      "\u001b[1;31mNameError\u001b[0m                                 Traceback (most recent call last)",
      "Cell \u001b[1;32mIn[12], line 2\u001b[0m\n\u001b[0;32m      1\u001b[0m \u001b[38;5;66;03m# label for navigate bar\u001b[39;00m\n\u001b[1;32m----> 2\u001b[0m root\u001b[38;5;241m.\u001b[39mnavigation_frame_label \u001b[38;5;241m=\u001b[39m \u001b[43mcustomtkinter\u001b[49m\u001b[38;5;241m.\u001b[39mCTkLabel(root\u001b[38;5;241m.\u001b[39mnavigation_frame, text\u001b[38;5;241m=\u001b[39m\u001b[38;5;124m\"\u001b[39m\u001b[38;5;124m  Image Example\u001b[39m\u001b[38;5;124m\"\u001b[39m, compound\u001b[38;5;241m=\u001b[39m\u001b[38;5;124m\"\u001b[39m\u001b[38;5;124mleft\u001b[39m\u001b[38;5;124m\"\u001b[39m, font\u001b[38;5;241m=\u001b[39mcustomtkinter\u001b[38;5;241m.\u001b[39mCTkFont(size\u001b[38;5;241m=\u001b[39m\u001b[38;5;241m15\u001b[39m, weight\u001b[38;5;241m=\u001b[39m\u001b[38;5;124m\"\u001b[39m\u001b[38;5;124mbold\u001b[39m\u001b[38;5;124m\"\u001b[39m))\n\u001b[0;32m      3\u001b[0m root\u001b[38;5;241m.\u001b[39mnavigation_frame_label\u001b[38;5;241m.\u001b[39mgrid(row\u001b[38;5;241m=\u001b[39m\u001b[38;5;241m0\u001b[39m, column\u001b[38;5;241m=\u001b[39m\u001b[38;5;241m0\u001b[39m, padx\u001b[38;5;241m=\u001b[39m\u001b[38;5;241m20\u001b[39m, pady\u001b[38;5;241m=\u001b[39m\u001b[38;5;241m80\u001b[39m)\n\u001b[0;32m      4\u001b[0m root\u001b[38;5;241m.\u001b[39mnavigation_frame_label \u001b[38;5;241m=\u001b[39m customtkinter\u001b[38;5;241m.\u001b[39mCTkLabel(root\u001b[38;5;241m.\u001b[39mnavigation_frame, text\u001b[38;5;241m=\u001b[39m\u001b[38;5;124m\"\u001b[39m\u001b[38;5;124m  \u001b[39m\u001b[38;5;124m\"\u001b[39m, compound\u001b[38;5;241m=\u001b[39m\u001b[38;5;124m\"\u001b[39m\u001b[38;5;124mleft\u001b[39m\u001b[38;5;124m\"\u001b[39m, font\u001b[38;5;241m=\u001b[39mcustomtkinter\u001b[38;5;241m.\u001b[39mCTkFont(size\u001b[38;5;241m=\u001b[39m\u001b[38;5;241m15\u001b[39m, weight\u001b[38;5;241m=\u001b[39m\u001b[38;5;124m\"\u001b[39m\u001b[38;5;124mbold\u001b[39m\u001b[38;5;124m\"\u001b[39m))\n",
      "\u001b[1;31mNameError\u001b[0m: name 'customtkinter' is not defined"
     ]
    }
   ],
   "source": [
    "# label for navigate bar\n",
    "root.navigation_frame_label = customtkinter.CTkLabel(root.navigation_frame, text=\"  Image Example\", compound=\"left\", font=customtkinter.CTkFont(size=15, weight=\"bold\"))\n",
    "root.navigation_frame_label.grid(row=0, column=0, padx=20, pady=80)\n",
    "root.navigation_frame_label = customtkinter.CTkLabel(root.navigation_frame, text=\"  \", compound=\"left\", font=customtkinter.CTkFont(size=15, weight=\"bold\"))\n",
    "root.navigation_frame_label.grid(row=6, column=0, padx=20, pady=30)\n",
    "\n",
    "root.geometry(\"700x450\")\n",
    "root.title(\"Sélectionneur d'images\")"
   ]
  },
  {
   "cell_type": "markdown",
   "id": "e329756b",
   "metadata": {},
   "source": [
    "## Creation des boutons pour sélectionner les images "
   ]
  },
  {
   "cell_type": "code",
   "execution_count": 13,
   "id": "4c007835",
   "metadata": {},
   "outputs": [
    {
     "ename": "NameError",
     "evalue": "name 'customtkinter' is not defined",
     "output_type": "error",
     "traceback": [
      "\u001b[1;31m---------------------------------------------------------------------------\u001b[0m",
      "\u001b[1;31mNameError\u001b[0m                                 Traceback (most recent call last)",
      "Cell \u001b[1;32mIn[13], line 2\u001b[0m\n\u001b[0;32m      1\u001b[0m \u001b[38;5;66;03m# Bouton pour sélectionner l'image 1\u001b[39;00m\n\u001b[1;32m----> 2\u001b[0m select_image1_button \u001b[38;5;241m=\u001b[39m \u001b[43mcustomtkinter\u001b[49m\u001b[38;5;241m.\u001b[39mCTkButton(root\u001b[38;5;241m.\u001b[39mnavigation_frame, text\u001b[38;5;241m=\u001b[39m\u001b[38;5;124m\"\u001b[39m\u001b[38;5;124mSélectionnez l\u001b[39m\u001b[38;5;124m'\u001b[39m\u001b[38;5;124mimage 1\u001b[39m\u001b[38;5;124m\"\u001b[39m, height\u001b[38;5;241m=\u001b[39m\u001b[38;5;241m40\u001b[39m, border_spacing\u001b[38;5;241m=\u001b[39m\u001b[38;5;241m10\u001b[39m, text_color\u001b[38;5;241m=\u001b[39m(\u001b[38;5;124m\"\u001b[39m\u001b[38;5;124mgray10\u001b[39m\u001b[38;5;124m\"\u001b[39m, \u001b[38;5;124m\"\u001b[39m\u001b[38;5;124mgray90\u001b[39m\u001b[38;5;124m\"\u001b[39m), hover_color\u001b[38;5;241m=\u001b[39m(\u001b[38;5;124m\"\u001b[39m\u001b[38;5;124mgray70\u001b[39m\u001b[38;5;124m\"\u001b[39m, \u001b[38;5;124m\"\u001b[39m\u001b[38;5;124mgray30\u001b[39m\u001b[38;5;124m\"\u001b[39m), anchor\u001b[38;5;241m=\u001b[39m\u001b[38;5;124m\"\u001b[39m\u001b[38;5;124mw\u001b[39m\u001b[38;5;124m\"\u001b[39m, command\u001b[38;5;241m=\u001b[39mselect_image1)\n\u001b[0;32m      3\u001b[0m select_image1_button\u001b[38;5;241m.\u001b[39mgrid(row\u001b[38;5;241m=\u001b[39m\u001b[38;5;241m2\u001b[39m, column\u001b[38;5;241m=\u001b[39m\u001b[38;5;241m0\u001b[39m, sticky\u001b[38;5;241m=\u001b[39m\u001b[38;5;124m\"\u001b[39m\u001b[38;5;124mew\u001b[39m\u001b[38;5;124m\"\u001b[39m)\n\u001b[0;32m      5\u001b[0m \u001b[38;5;66;03m# Bouton pour sélectionner l'image 2\u001b[39;00m\n",
      "\u001b[1;31mNameError\u001b[0m: name 'customtkinter' is not defined"
     ]
    }
   ],
   "source": [
    "# Bouton pour sélectionner l'image 1\n",
    "select_image1_button = customtkinter.CTkButton(root.navigation_frame, text=\"Sélectionnez l'image 1\", height=40, border_spacing=10, text_color=(\"gray10\", \"gray90\"), hover_color=(\"gray70\", \"gray30\"), anchor=\"w\", command=select_image1)\n",
    "select_image1_button.grid(row=2, column=0, sticky=\"ew\")\n",
    "\n",
    "# Bouton pour sélectionner l'image 2\n",
    "select_image2_button = customtkinter.CTkButton(root.navigation_frame, text=\"Sélectionnez l'image 2\", command=select_image2, height=40, border_spacing=10,\n",
    "                                                    text_color=(\"gray10\", \"gray90\"), hover_color=(\"gray70\", \"gray30\"), anchor=\"w\")\n",
    "select_image2_button.grid(row=4, column=0, sticky=\"ew\")\n",
    "\n",
    "# Bouton pour afficher les images sélectionnées\n",
    "show_images_button1 = customtkinter.CTkButton(root.home_frame, text=\"Afficher les images\", command=show_images,border_spacing=10, height=40,\n",
    "                                                    text_color=(\"gray10\", \"gray90\"), hover_color=(\"gray70\", \"gray30\"), anchor=\"w\")\n",
    "show_images_button1.grid(row=5, column=0, sticky=\"ew\")\n",
    "\n",
    "# Bouton pour afficher les images sélectionnées\n",
    "show_images_button = customtkinter.CTkButton(root.navigation_frame, text=\"Résultats\", command=detecter,border_spacing=10, height=40,\n",
    "                                                    text_color=(\"gray10\", \"gray90\"), hover_color=(\"gray70\", \"gray30\"), anchor=\"w\")\n",
    "show_images_button.grid(row=6, column=0, sticky=\"ew\")"
   ]
  },
  {
   "cell_type": "markdown",
   "id": "58af5d1b",
   "metadata": {},
   "source": [
    "## Affichage de la fenêtre "
   ]
  },
  {
   "cell_type": "code",
   "execution_count": 14,
   "id": "02cd3d10",
   "metadata": {},
   "outputs": [
    {
     "ename": "NameError",
     "evalue": "name 'root' is not defined",
     "output_type": "error",
     "traceback": [
      "\u001b[1;31m---------------------------------------------------------------------------\u001b[0m",
      "\u001b[1;31mNameError\u001b[0m                                 Traceback (most recent call last)",
      "Cell \u001b[1;32mIn[14], line 2\u001b[0m\n\u001b[0;32m      1\u001b[0m \u001b[38;5;66;03m# Boucle d'événements\u001b[39;00m\n\u001b[1;32m----> 2\u001b[0m \u001b[43mroot\u001b[49m\u001b[38;5;241m.\u001b[39mmainloop()\n",
      "\u001b[1;31mNameError\u001b[0m: name 'root' is not defined"
     ]
    }
   ],
   "source": [
    "# Boucle d'événements\n",
    "root.mainloop()"
   ]
  },
  {
   "cell_type": "code",
   "execution_count": null,
   "id": "602e488d",
   "metadata": {},
   "outputs": [],
   "source": []
  },
  {
   "cell_type": "code",
   "execution_count": null,
   "id": "48574fe7",
   "metadata": {},
   "outputs": [],
   "source": []
  }
 ],
 "metadata": {
  "kernelspec": {
   "display_name": "Python 3 (ipykernel)",
   "language": "python",
   "name": "python3"
  },
  "language_info": {
   "codemirror_mode": {
    "name": "ipython",
    "version": 3
   },
   "file_extension": ".py",
   "mimetype": "text/x-python",
   "name": "python",
   "nbconvert_exporter": "python",
   "pygments_lexer": "ipython3",
   "version": "3.9.13"
  }
 },
 "nbformat": 4,
 "nbformat_minor": 5
}
